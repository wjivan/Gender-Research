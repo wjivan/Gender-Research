{
 "metadata": {
  "language_info": {
   "codemirror_mode": {
    "name": "ipython",
    "version": 3
   },
   "file_extension": ".py",
   "mimetype": "text/x-python",
   "name": "python",
   "nbconvert_exporter": "python",
   "pygments_lexer": "ipython3",
   "version": "3.6.10"
  },
  "orig_nbformat": 2,
  "kernelspec": {
   "name": "python3",
   "display_name": "Python 3.6.10 64-bit ('zeina': conda)",
   "metadata": {
    "interpreter": {
     "hash": "23145376f35b1170ea1bf4b28bc7e8e771587d1d28226557d53e8705cb8082c2"
    }
   }
  }
 },
 "nbformat": 4,
 "nbformat_minor": 2,
 "cells": [
  {
   "cell_type": "code",
   "execution_count": 191,
   "metadata": {},
   "outputs": [],
   "source": [
    "import pandas as pd\n",
    "import numpy as np\n",
    "import requests\n",
    "import unicodedata\n",
    "import re\n",
    "from fuzzywuzzy import fuzz, process\n",
    "from bs4 import BeautifulSoup\n",
    "\n",
    "url = 'https://ideas.repec.org/e/poa5.html'\n",
    "\n",
    "# Setup beautiful soup\n",
    "page = requests.get(url)\n",
    "soup = BeautifulSoup(page.content, 'html.parser')\n",
    "\n",
    "# Publication classifications free, gate, none\n",
    "# There will be overlaps\n",
    "publications = soup.find_all('li', class_={'list-group-item downfree', \\\n",
    "    'list-group-item downgate', 'list-group-item downnone'})"
   ]
  },
  {
   "cell_type": "code",
   "execution_count": 193,
   "metadata": {},
   "outputs": [],
   "source": [
    "paper_details = {}\n",
    "i = 1\n",
    "for pub in publications:\n",
    "    try:\n",
    "        title = pub.find('a').text\n",
    "        name_year = pub.text.strip().split('\\n')[0]\n",
    "        \n",
    "\n",
    "        if 'undated' in name_year:\n",
    "            year = 'undated'\n",
    "            authors = re.sub(r', \\\"undated\\\"', '',name_year).split(' & ')\n",
    "        else:\n",
    "            year = int(re.findall(r', (\\d{4})\\.', name_year)[0])\n",
    "            authors = re.sub(r', \\d{4}\\.', '',name_year).split(' & ')\n",
    "        \n",
    "        paper_details[title] = {'url':url, 'author': authors, 'year': year}\n",
    "    except:\n",
    "        print('something went wrong at paper {}'.format(i))\n",
    "    i +=1\n",
    "    "
   ]
  },
  {
   "cell_type": "code",
   "execution_count": 197,
   "metadata": {},
   "outputs": [],
   "source": [
    "personal_details = soup.find('tbody').find_all('tr')"
   ]
  },
  {
   "cell_type": "code",
   "execution_count": 199,
   "metadata": {},
   "outputs": [
    {
     "output_type": "execute_result",
     "data": {
      "text/plain": [
       "<tr>\n",
       "<td>First Name:</td><td>Bogdan</td>\n",
       "</tr>"
      ]
     },
     "metadata": {},
     "execution_count": 199
    }
   ],
   "source": [
    "personal_details[0]"
   ]
  },
  {
   "cell_type": "code",
   "execution_count": 204,
   "metadata": {},
   "outputs": [],
   "source": []
  },
  {
   "cell_type": "code",
   "execution_count": 205,
   "metadata": {},
   "outputs": [
    {
     "output_type": "execute_result",
     "data": {
      "text/plain": [
       "{'First Name': 'Bogdan',\n",
       " 'Last Name': 'Oancea',\n",
       " 'RePEc Short-ID': 'poa5',\n",
       " 'Twitter': '@bogdan__oancea'}"
      ]
     },
     "metadata": {},
     "execution_count": 205
    }
   ],
   "source": [
    "per_clean"
   ]
  },
  {
   "cell_type": "code",
   "execution_count": 219,
   "metadata": {},
   "outputs": [
    {
     "output_type": "stream",
     "name": "stdout",
     "text": [
      "homepage not found\n{'First Name': 'Bogdan', 'Last Name': 'Oancea', 'RePEc Short-ID': 'poa5', 'Twitter': '@bogdan__oancea', 'Aff_Location0': ' Bucureşti, Romania', 'Aff_Location1': ' Ostrava, Czech Republic', 'Aff_Department0': '(90%) Facultatea de Administraţie şi Afaceri', 'Aff_Organisation0': 'Universitatea din Bucureşti', 'Aff_Department1': '(10%) Ekonomická fakulta', 'Aff_Organisation1': 'Vysoká Škola Báňská-Technická Univerzita Ostrava'}\n"
     ]
    }
   ],
   "source": [
    "personal_details = soup.find('tbody').find_all('tr')\n",
    "per = {}\n",
    "for p in personal_details:\n",
    "    k = p.find_all('td')[0].text.replace(':','')\n",
    "    v = p.find_all('td')[1].text.strip()\n",
    "    per[k] = v\n",
    "per_clean = {k:v for (k,v) in per.items() if (v is not '') }\n",
    "\n",
    "# Find homepage link\n",
    "try:    \n",
    "    homepage = soup.find('td', {'class':'homelabel'}).next_sibling.find('a', href=True)['href']\n",
    "    per_clean['Homepage'] = homepage\n",
    "except:\n",
    "    print('homepage not found')\n",
    "\n",
    "# Find affiliation - can have multiple\n",
    "affiliation_soup = soup.find('div', {'id':'affiliation'})\n",
    "i = 0\n",
    "try:\n",
    "    for a in affiliation_soup.find_all('h3'):\n",
    "        if a.find('br'):\n",
    "            department = a.find('br').previous_sibling\n",
    "            organisation = a.find('br').next_sibling\n",
    "        else:\n",
    "            print('no breaks in affiliation')\n",
    "            department = ''\n",
    "            organisation = a\n",
    "            .text\n",
    "        per_clean['Aff_Department{}'.format(i)] = department\n",
    "        per_clean['Aff_Organisation{}'.format(i)] = organisation\n",
    "        i += 1\n",
    "except:\n",
    "    print('affiliation not found')\n",
    "\n",
    "# Find affiliation locations\n",
    "i = 0\n",
    "try:\n",
    "    for a in affiliation_soup.find_all('span', {'class':'locationlabel'}):\n",
    "        if a:\n",
    "            location = a.text\n",
    "        else:\n",
    "            print('no location in affiliation')\n",
    "        per_clean['Aff_Location{}'.format(i)] = location\n",
    "        i += 1\n",
    "except:\n",
    "    print('affiliation not found')\n",
    "print(per_clean)\n",
    "\n",
    "    "
   ]
  },
  {
   "cell_type": "code",
   "execution_count": 224,
   "metadata": {},
   "outputs": [],
   "source": [
    "df = pd.DataFrame.from_records([per_clean]).reindex(sorted(df.columns), axis=1)"
   ]
  },
  {
   "cell_type": "code",
   "execution_count": 225,
   "metadata": {},
   "outputs": [
    {
     "output_type": "execute_result",
     "data": {
      "text/plain": [
       "                                Aff_Department0           Aff_Department1  \\\n",
       "0  (90%) Facultatea de Administraţie şi Afaceri  (10%) Ekonomická fakulta   \n",
       "\n",
       "         Aff_Location0             Aff_Location1            Aff_Organisation0  \\\n",
       "0   Bucureşti, Romania   Ostrava, Czech Republic  Universitatea din Bucureşti   \n",
       "\n",
       "                                  Aff_Organisation1 First Name Last Name  \\\n",
       "0  Vysoká Škola Báňská-Technická Univerzita Ostrava     Bogdan    Oancea   \n",
       "\n",
       "  RePEc Short-ID          Twitter  \n",
       "0           poa5  @bogdan__oancea  "
      ],
      "text/html": "<div>\n<style scoped>\n    .dataframe tbody tr th:only-of-type {\n        vertical-align: middle;\n    }\n\n    .dataframe tbody tr th {\n        vertical-align: top;\n    }\n\n    .dataframe thead th {\n        text-align: right;\n    }\n</style>\n<table border=\"1\" class=\"dataframe\">\n  <thead>\n    <tr style=\"text-align: right;\">\n      <th></th>\n      <th>Aff_Department0</th>\n      <th>Aff_Department1</th>\n      <th>Aff_Location0</th>\n      <th>Aff_Location1</th>\n      <th>Aff_Organisation0</th>\n      <th>Aff_Organisation1</th>\n      <th>First Name</th>\n      <th>Last Name</th>\n      <th>RePEc Short-ID</th>\n      <th>Twitter</th>\n    </tr>\n  </thead>\n  <tbody>\n    <tr>\n      <th>0</th>\n      <td>(90%) Facultatea de Administraţie şi Afaceri</td>\n      <td>(10%) Ekonomická fakulta</td>\n      <td>Bucureşti, Romania</td>\n      <td>Ostrava, Czech Republic</td>\n      <td>Universitatea din Bucureşti</td>\n      <td>Vysoká Škola Báňská-Technická Univerzita Ostrava</td>\n      <td>Bogdan</td>\n      <td>Oancea</td>\n      <td>poa5</td>\n      <td>@bogdan__oancea</td>\n    </tr>\n  </tbody>\n</table>\n</div>"
     },
     "metadata": {},
     "execution_count": 225
    }
   ],
   "source": [
    "df"
   ]
  },
  {
   "cell_type": "code",
   "execution_count": null,
   "metadata": {},
   "outputs": [],
   "source": []
  }
 ]
}